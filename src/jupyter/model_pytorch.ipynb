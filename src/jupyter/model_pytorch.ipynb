{
 "cells": [
  {
   "cell_type": "code",
   "execution_count": 2,
   "metadata": {},
   "outputs": [],
   "source": [
    "import sys\n",
    "sys.path.append('/Users/mojgan/code/EPITECH/ZOIDBERG2.0/')"
   ]
  },
  {
   "cell_type": "code",
   "execution_count": 3,
   "metadata": {},
   "outputs": [
    {
     "name": "stdout",
     "output_type": "stream",
     "text": [
      "PyTorch version: 2.3.1\n"
     ]
    }
   ],
   "source": [
    "import torch\n",
    "from torch.utils.data import DataLoader\n",
    "from torchvision import transforms\n",
    "from torchvision import datasets\n",
    "from src.config import PATH_PERSO_TRAIN_NEW, PATH_PERSO_VALID_NEW, PATH_PERSO_TEST_NEW,PATH_PERSO_OUTPUTS\n",
    "import torch.nn as nn\n",
    "import torch.nn.functional as F\n",
    "print(\"PyTorch version:\", torch.__version__)"
   ]
  },
  {
   "cell_type": "code",
   "execution_count": 4,
   "metadata": {},
   "outputs": [],
   "source": [
    "train_img_dir = PATH_PERSO_TRAIN_NEW\n",
    "valid_img_dir = PATH_PERSO_VALID_NEW\n",
    "test_img_dir = PATH_PERSO_TEST_NEW\n",
    "path_out = PATH_PERSO_OUTPUTS"
   ]
  },
  {
   "cell_type": "code",
   "execution_count": 5,
   "metadata": {},
   "outputs": [],
   "source": [
    "transform = transforms.Compose([\n",
    "    transforms.Resize((150, 150)),\n",
    "    transforms.ToTensor(),\n",
    "])"
   ]
  },
  {
   "cell_type": "code",
   "execution_count": 6,
   "metadata": {},
   "outputs": [],
   "source": [
    "validation_dataset = datasets.ImageFolder(valid_img_dir, transform=transform)\n",
    "validation_loader = DataLoader(validation_dataset, batch_size=1, shuffle=True)"
   ]
  },
  {
   "cell_type": "code",
   "execution_count": 7,
   "metadata": {},
   "outputs": [],
   "source": [
    "test_dataset = datasets.ImageFolder(test_img_dir, transform=transform)\n",
    "test_loader = DataLoader(test_dataset, batch_size=1, shuffle=True)"
   ]
  },
  {
   "cell_type": "code",
   "execution_count": 9,
   "metadata": {},
   "outputs": [],
   "source": [
    "class SimpleCNN(nn.Module):\n",
    "    def __init__(self):\n",
    "        super(SimpleCNN, self).__init__()\n",
    "        self.conv1 = nn.Conv2d(3, 32, kernel_size=3, padding=1)\n",
    "        self.pool = nn.MaxPool2d(2, 2)\n",
    "        self.fc1 = nn.Linear(32 * 75 * 75, 128)\n",
    "        self.dropout = nn.Dropout(0.5)\n",
    "        self.fc2 = nn.Linear(128, 3)  # 3 output classes\n",
    "\n",
    "    def forward(self, x):\n",
    "        x = self.pool(F.relu(self.conv1(x)))\n",
    "        x = x.view(-1, 32 * 75 * 75)  # Flatten\n",
    "        x = F.relu(self.fc1(x))\n",
    "        x = self.dropout(x)\n",
    "        x = self.fc2(x)\n",
    "        x = F.softmax(x, dim=1)  # Corrected softmax dimension to 1\n",
    "        return x\n",
    "\n",
    "\n",
    "model_training = SimpleCNN()"
   ]
  },
  {
   "cell_type": "code",
   "execution_count": 10,
   "metadata": {},
   "outputs": [],
   "source": [
    "state_dict = torch.load('/Users/mojgan/code/EPITECH/chest_Xray/outputs/models/2024-07-16_11-05-44/final_model.pth')"
   ]
  },
  {
   "cell_type": "code",
   "execution_count": 11,
   "metadata": {},
   "outputs": [
    {
     "data": {
      "text/plain": [
       "<All keys matched successfully>"
      ]
     },
     "execution_count": 11,
     "metadata": {},
     "output_type": "execute_result"
    }
   ],
   "source": [
    "remapped_state_dict = {}\n",
    "for key in state_dict:\n",
    "    if key.startswith('0'):\n",
    "        new_key = key.replace('0', 'conv1')\n",
    "    elif key.startswith('4'):\n",
    "        new_key = key.replace('4', 'fc1')\n",
    "    elif key.startswith('7'):\n",
    "        new_key = key.replace('7', 'fc2')\n",
    "    else:\n",
    "        new_key = key\n",
    "    \n",
    "    remapped_state_dict[new_key] = state_dict[key]\n",
    "\n",
    "# Now load the model with remapped state_dict\n",
    "model_training.load_state_dict(remapped_state_dict)"
   ]
  },
  {
   "cell_type": "code",
   "execution_count": 12,
   "metadata": {},
   "outputs": [],
   "source": [
    "# Convert integer labels to one-hot encoded vectors\n",
    "\n",
    "\n",
    "def one_hot_encode(labels, num_classes):\n",
    "    return F.one_hot(labels, num_classes).float()"
   ]
  },
  {
   "cell_type": "code",
   "execution_count": 13,
   "metadata": {},
   "outputs": [
    {
     "name": "stdout",
     "output_type": "stream",
     "text": [
      "Validation Loss: 0.9734918467708938, Validation Accuracy: 0.6503972758229285\n"
     ]
    }
   ],
   "source": [
    "model_training.eval()\n",
    "criterion = nn.CrossEntropyLoss()  # For multi-class classification\n",
    "val_loss = 0.0\n",
    "correct = 0\n",
    "total = 0\n",
    "\n",
    "all_labels = []\n",
    "all_outputs = []\n",
    "\n",
    "with torch.no_grad():\n",
    "    for inputs, labels in test_loader:\n",
    "        outputs = model_training(inputs)\n",
    "        loss = criterion(outputs, labels)\n",
    "        val_loss += loss.item()\n",
    "        _, res = torch.max(outputs, 1)\n",
    "        correct += (res == labels).sum().item()\n",
    "        total += labels.size(0)\n",
    "\n",
    "        # Convert labels to one-hot encoding\n",
    "        one_hot_labels = one_hot_encode(labels, num_classes=3)\n",
    "        \n",
    "        all_labels.append(one_hot_labels)\n",
    "        all_outputs.append(outputs)\n",
    "\n",
    "test_accuracy = correct / total\n",
    "print(f\"Validation Loss: {val_loss / len(test_loader)}, Validation Accuracy: {test_accuracy}\")"
   ]
  },
  {
   "cell_type": "markdown",
   "metadata": {},
   "source": [
    "negatif => sigmoid pour [0,1]"
   ]
  },
  {
   "cell_type": "code",
   "execution_count": 26,
   "metadata": {},
   "outputs": [
    {
     "name": "stdout",
     "output_type": "stream",
     "text": [
      "tensor([[144,  79,  15],\n",
      "        [  0, 415,   3],\n",
      "        [  2, 209,  14]])\n"
     ]
    }
   ],
   "source": [
    "def confusion_matrix(y_true, y_pred, num_classes):\n",
    "    cm = torch.zeros(num_classes, num_classes, dtype=torch.int64)\n",
    "    for t, p in zip(y_true, y_pred):\n",
    "        cm[t, p] += 1\n",
    "    return cm\n",
    "\n",
    "\n",
    "# Number of samples\n",
    "num_classes = 3\n",
    "\n",
    "# Generate random one-hot encoded true labels\n",
    "true_labels_test = torch.argmax(torch.cat(all_labels), dim=1)\n",
    "\n",
    "# Generate random predicted classes\n",
    "predicted_classes = torch.argmax(torch.cat(all_outputs), dim=1)\n",
    "\n",
    "# Calculate confusion matrix\n",
    "cm = confusion_matrix(true_labels_test, predicted_classes, num_classes)\n",
    "print(cm)"
   ]
  },
  {
   "cell_type": "code",
   "execution_count": 33,
   "metadata": {},
   "outputs": [],
   "source": [
    "# Calculate True Positives (TP), False Positives (FP), False Negatives (FN)\n",
    "TP = cm.diag()\n",
    "FP = cm.sum(dim=1) - TP\n",
    "FN = cm.sum(dim=0) - TP\n",
    "TN = cm.sum() - (FP + FN + TP)\n",
    "\n",
    "# Calcul des totaux\n",
    "TP_total = TP.sum().item()\n",
    "FP_total = FP.sum().item()\n",
    "FN_total = FN.sum().item()\n",
    "TN_total = TN.sum().item()\n",
    "\n",
    "# Calculate Precision, Recall, and F1-score\n",
    "precision = TP.float() / (TP + FP).float()\n",
    "recall = TP.float() / (TP + FN).float()\n",
    "f1 = 2 * (precision * recall) / (precision + recall)\n",
    "\n",
    "# Affichage des résultats\n",
    "print(f\"F1-score: {f1}\")\n",
    "print(f\"Precision: {precision}\")\n",
    "print(f\"Recall: {recall}\")"
   ]
  },
  {
   "cell_type": "code",
   "execution_count": 32,
   "metadata": {},
   "outputs": [
    {
     "name": "stdout",
     "output_type": "stream",
     "text": [
      "Matrice de confusion :\n",
      "tensor([[144,  79,  15],\n",
      "        [  0, 415,   3],\n",
      "        [  2, 209,  14]])\n",
      "TP : tensor([144, 415,  14])\n",
      "FP : tensor([ 94,   3, 211])\n",
      "FN : tensor([  2, 288,  18])\n",
      "TN : tensor([641, 175, 638])\n",
      "TP_total : 573\n",
      "FP_total : 308\n",
      "FN_total : 308\n",
      "TN_total : 1454\n"
     ]
    }
   ],
   "source": [
    "print(\"TP :\", TP)\n",
    "print(\"FP :\", FP)\n",
    "print(\"FN :\", FN)\n",
    "print(\"TN :\", TN)\n",
    "print(\"TP_total :\", TP_total)\n",
    "print(\"FP_total :\", FP_total)\n",
    "print(\"FN_total :\", FN_total)\n",
    "print(\"TN_total :\", TN_total)"
   ]
  }
 ],
 "metadata": {
  "kernelspec": {
   "display_name": ".venv",
   "language": "python",
   "name": "python3"
  },
  "language_info": {
   "codemirror_mode": {
    "name": "ipython",
    "version": 3
   },
   "file_extension": ".py",
   "mimetype": "text/x-python",
   "name": "python",
   "nbconvert_exporter": "python",
   "pygments_lexer": "ipython3",
   "version": "3.12.2"
  }
 },
 "nbformat": 4,
 "nbformat_minor": 2
}
